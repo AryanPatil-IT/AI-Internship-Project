{
  "nbformat": 4,
  "nbformat_minor": 0,
  "metadata": {
    "colab": {
      "provenance": [],
      "authorship_tag": "ABX9TyMWS9dEUy3DQFuQ5BTzE6QI",
      "include_colab_link": true
    },
    "kernelspec": {
      "name": "python3",
      "display_name": "Python 3"
    },
    "language_info": {
      "name": "python"
    }
  },
  "cells": [
    {
      "cell_type": "markdown",
      "metadata": {
        "id": "view-in-github",
        "colab_type": "text"
      },
      "source": [
        "<a href=\"https://colab.research.google.com/github/AryanPatil-IT/AI-Internship-Project/blob/main/Sentiment_Analysis_on_Twitter_Data.ipynb\" target=\"_parent\"><img src=\"https://colab.research.google.com/assets/colab-badge.svg\" alt=\"Open In Colab\"/></a>"
      ]
    },
    {
      "cell_type": "code",
      "source": [
        "# STEP 1: Install necessary libraries\n",
        "!pip install pandas nltk scikit-learn matplotlib seaborn\n",
        "\n",
        "# STEP 2: Import libraries\n",
        "import pandas as pd\n",
        "import nltk\n",
        "from nltk.corpus import stopwords\n",
        "from nltk.tokenize import word_tokenize\n",
        "from sklearn.feature_extraction.text import TfidfVectorizer\n",
        "from sklearn.model_selection import train_test_split\n",
        "from sklearn.naive_bayes import MultinomialNB\n",
        "from sklearn.metrics import accuracy_score, classification_report, confusion_matrix\n",
        "import seaborn as sns\n",
        "import matplotlib.pyplot as plt\n",
        "import re\n",
        "\n",
        "# Download NLTK data\n",
        "nltk.download('punkt_tab')\n",
        "nltk.download('stopwords')\n",
        "\n",
        "# STEP 3: Create a larger, balanced dataset\n",
        "reviews = [\n",
        "    # Positive\n",
        "    \"This movie was fantastic, I loved it!\",\n",
        "    \"Amazing visuals and wonderful soundtrack.\",\n",
        "    \"Really good movie, I will watch again!\",\n",
        "    \"Excellent direction and superb acting!\",\n",
        "    \"Brilliant film, outstanding performances!\",\n",
        "    \"The actors did an amazing job.\",\n",
        "    \"Pretty good movie overall.\",\n",
        "    \"Loved every part of it!\",\n",
        "    \"Best movie I have seen this year!\",\n",
        "    \"Absolutely wonderful experience, I enjoyed it.\",\n",
        "\n",
        "    # Negative\n",
        "    \"Absolutely terrible film. Waste of time.\",\n",
        "    \"The plot was boring and predictable.\",\n",
        "    \"I hate this movie, very bad experience.\",\n",
        "    \"Worst movie ever, do not recommend.\",\n",
        "    \"Terrible script, I walked out halfway.\",\n",
        "    \"This was a complete disaster.\",\n",
        "    \"The movie was too long and boring.\",\n",
        "    \"Not worth watching, very poor film.\",\n",
        "    \"Horrible acting and weak story.\",\n",
        "    \"Disappointing and frustrating experience.\",\n",
        "\n",
        "    # Neutral\n",
        "    \"It was okay, not too bad.\",\n",
        "    \"Mediocre at best, expected more.\",\n",
        "    \"The movie was average, nothing special.\",\n",
        "    \"Just a normal film, nothing exciting.\",\n",
        "    \"Not too bad, not too good either.\",\n",
        "    \"It’s fine, but I wouldn’t watch it again.\",\n",
        "    \"Decent movie, nothing remarkable.\",\n",
        "    \"An average film, okay for passing time.\",\n",
        "    \"Neither great nor terrible.\",\n",
        "    \"A standard movie, nothing much to say.\"\n",
        "]\n",
        "\n",
        "sentiments = (\n",
        "    [\"Positive\"] * 10 +\n",
        "    [\"Negative\"] * 10 +\n",
        "    [\"Neutral\"] * 10\n",
        ")\n",
        "\n",
        "df = pd.DataFrame({\"Review\": reviews, \"Sentiment\": sentiments})\n",
        "print(\"Dataset size:\", len(df))\n",
        "print(df['Sentiment'].value_counts())\n",
        "\n",
        "# STEP 4: Preprocess text\n",
        "stop_words = set(stopwords.words(\"english\"))\n",
        "\n",
        "def preprocess(text):\n",
        "    text = re.sub(r\"[^a-zA-Z ]\", \"\", text)\n",
        "    tokens = word_tokenize(text.lower())\n",
        "    tokens = [w for w in tokens if w not in stop_words]\n",
        "    return \" \".join(tokens)\n",
        "\n",
        "df[\"Cleaned_Review\"] = df[\"Review\"].apply(preprocess)\n",
        "\n",
        "# STEP 5: Convert text to numerical features\n",
        "vectorizer = TfidfVectorizer()\n",
        "X = vectorizer.fit_transform(df[\"Cleaned_Review\"])\n",
        "y = df[\"Sentiment\"]\n",
        "\n",
        "# STEP 6: Train-Test Split (with stratify to balance classes)\n",
        "X_train, X_test, y_train, y_test = train_test_split(\n",
        "    X, y, test_size=0.3, random_state=42, stratify=y\n",
        ")\n",
        "\n",
        "# STEP 7: Train a Naive Bayes classifier\n",
        "model = MultinomialNB()\n",
        "model.fit(X_train, y_train)\n",
        "\n",
        "# STEP 8: Predict\n",
        "y_pred = model.predict(X_test)\n",
        "\n",
        "# STEP 9: Evaluate\n",
        "print(\"\\nAccuracy:\", accuracy_score(y_test, y_pred))\n",
        "print(\"\\nClassification Report:\\n\", classification_report(y_test, y_pred, zero_division=0))\n",
        "\n",
        "# Confusion Matrix\n",
        "cm = confusion_matrix(y_test, y_pred, labels=model.classes_)\n",
        "sns.heatmap(cm, annot=True, fmt=\"d\", cmap=\"Blues\",\n",
        "            xticklabels=model.classes_, yticklabels=model.classes_)\n",
        "plt.title(\"Confusion Matrix\")\n",
        "plt.xlabel(\"Predicted\")\n",
        "plt.ylabel(\"Actual\")\n",
        "plt.show()\n",
        "\n",
        "# STEP 10: Test custom review\n",
        "sample = [\"The movie was really amazing and I loved it!\"]\n",
        "sample_vector = vectorizer.transform([preprocess(sample[0])])\n",
        "print(\"\\nCustom Review Sentiment:\", model.predict(sample_vector)[0])\n"
      ],
      "metadata": {
        "colab": {
          "base_uri": "https://localhost:8080/",
          "height": 1000
        },
        "id": "KQ_Muj8ABcEV",
        "outputId": "7a3d866c-7aff-4459-ad0f-3e0f32a703ad"
      },
      "execution_count": null,
      "outputs": [
        {
          "output_type": "stream",
          "name": "stdout",
          "text": [
            "Requirement already satisfied: pandas in /usr/local/lib/python3.11/dist-packages (2.2.2)\n",
            "Requirement already satisfied: nltk in /usr/local/lib/python3.11/dist-packages (3.9.1)\n",
            "Requirement already satisfied: scikit-learn in /usr/local/lib/python3.11/dist-packages (1.6.1)\n",
            "Requirement already satisfied: matplotlib in /usr/local/lib/python3.11/dist-packages (3.10.0)\n",
            "Requirement already satisfied: seaborn in /usr/local/lib/python3.11/dist-packages (0.13.2)\n",
            "Requirement already satisfied: numpy>=1.23.2 in /usr/local/lib/python3.11/dist-packages (from pandas) (2.0.2)\n",
            "Requirement already satisfied: python-dateutil>=2.8.2 in /usr/local/lib/python3.11/dist-packages (from pandas) (2.9.0.post0)\n",
            "Requirement already satisfied: pytz>=2020.1 in /usr/local/lib/python3.11/dist-packages (from pandas) (2025.2)\n",
            "Requirement already satisfied: tzdata>=2022.7 in /usr/local/lib/python3.11/dist-packages (from pandas) (2025.2)\n",
            "Requirement already satisfied: click in /usr/local/lib/python3.11/dist-packages (from nltk) (8.2.1)\n",
            "Requirement already satisfied: joblib in /usr/local/lib/python3.11/dist-packages (from nltk) (1.5.1)\n",
            "Requirement already satisfied: regex>=2021.8.3 in /usr/local/lib/python3.11/dist-packages (from nltk) (2024.11.6)\n",
            "Requirement already satisfied: tqdm in /usr/local/lib/python3.11/dist-packages (from nltk) (4.67.1)\n",
            "Requirement already satisfied: scipy>=1.6.0 in /usr/local/lib/python3.11/dist-packages (from scikit-learn) (1.16.0)\n",
            "Requirement already satisfied: threadpoolctl>=3.1.0 in /usr/local/lib/python3.11/dist-packages (from scikit-learn) (3.6.0)\n",
            "Requirement already satisfied: contourpy>=1.0.1 in /usr/local/lib/python3.11/dist-packages (from matplotlib) (1.3.2)\n",
            "Requirement already satisfied: cycler>=0.10 in /usr/local/lib/python3.11/dist-packages (from matplotlib) (0.12.1)\n",
            "Requirement already satisfied: fonttools>=4.22.0 in /usr/local/lib/python3.11/dist-packages (from matplotlib) (4.59.0)\n",
            "Requirement already satisfied: kiwisolver>=1.3.1 in /usr/local/lib/python3.11/dist-packages (from matplotlib) (1.4.8)\n",
            "Requirement already satisfied: packaging>=20.0 in /usr/local/lib/python3.11/dist-packages (from matplotlib) (25.0)\n",
            "Requirement already satisfied: pillow>=8 in /usr/local/lib/python3.11/dist-packages (from matplotlib) (11.3.0)\n",
            "Requirement already satisfied: pyparsing>=2.3.1 in /usr/local/lib/python3.11/dist-packages (from matplotlib) (3.2.3)\n",
            "Requirement already satisfied: six>=1.5 in /usr/local/lib/python3.11/dist-packages (from python-dateutil>=2.8.2->pandas) (1.17.0)\n"
          ]
        },
        {
          "output_type": "stream",
          "name": "stderr",
          "text": [
            "[nltk_data] Downloading package punkt_tab to /root/nltk_data...\n",
            "[nltk_data]   Unzipping tokenizers/punkt_tab.zip.\n",
            "[nltk_data] Downloading package stopwords to /root/nltk_data...\n",
            "[nltk_data]   Unzipping corpora/stopwords.zip.\n"
          ]
        },
        {
          "output_type": "stream",
          "name": "stdout",
          "text": [
            "Dataset size: 30\n",
            "Sentiment\n",
            "Positive    10\n",
            "Negative    10\n",
            "Neutral     10\n",
            "Name: count, dtype: int64\n",
            "\n",
            "Accuracy: 0.4444444444444444\n",
            "\n",
            "Classification Report:\n",
            "               precision    recall  f1-score   support\n",
            "\n",
            "    Negative       1.00      0.33      0.50         3\n",
            "     Neutral       0.33      0.33      0.33         3\n",
            "    Positive       0.40      0.67      0.50         3\n",
            "\n",
            "    accuracy                           0.44         9\n",
            "   macro avg       0.58      0.44      0.44         9\n",
            "weighted avg       0.58      0.44      0.44         9\n",
            "\n"
          ]
        },
        {
          "output_type": "display_data",
          "data": {
            "text/plain": [
              "<Figure size 640x480 with 2 Axes>"
            ],
            "image/png": "[encoded data removed]"
          },
          "metadata": {}
        },
        {
          "output_type": "stream",
          "name": "stdout",
          "text": [
            "\n",
            "Custom Review Sentiment: Positive\n"
          ]
        }
      ]
    }
  ]
}